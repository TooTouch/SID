{
 "cells": [
  {
   "cell_type": "code",
   "execution_count": 1,
   "metadata": {},
   "outputs": [],
   "source": [
    "from glob import glob\n",
    "\n",
    "import os\n",
    "import pandas as pd\n",
    "import numpy as np\n",
    "import json\n",
    "from pathlib import Path\n",
    "import torch\n",
    "import pickle"
   ]
  },
  {
   "cell_type": "code",
   "execution_count": 2,
   "metadata": {},
   "outputs": [],
   "source": [
    "order = [\n",
    "    \"DeepFool\", \"BIM\", \"CW\", \"Low_CW\", \n",
    "    \"FAB\", \"FGSM\", \"PGD\", \"Low_PGD1\", \"Low_PGD2\", \n",
    "    \"AutoAttack\", \"Square\"\n",
    "]"
   ]
  },
  {
   "cell_type": "code",
   "execution_count": 53,
   "metadata": {},
   "outputs": [],
   "source": [
    "dataname = 'SVHN'\n",
    "modelname = 'resnet34'"
   ]
  },
  {
   "cell_type": "markdown",
   "metadata": {},
   "source": [
    "# Adversarial Attack"
   ]
  },
  {
   "cell_type": "code",
   "execution_count": 54,
   "metadata": {},
   "outputs": [],
   "source": [
    "del_keys = ['clean acc','noise acc','clean dwt acc']\n",
    "\n",
    "attack_results = glob(f'./results/{dataname}/saved_adv_samples/{modelname}/*/results.json')\n",
    "adv_df = pd.DataFrame()\n",
    "\n",
    "for p in attack_results:\n",
    "    r = json.load(open(p,'r'))\n",
    "    \n",
    "    for k in del_keys:\n",
    "        del r[k]\n",
    "    \n",
    "    r = pd.Series(\n",
    "        r,\n",
    "        name = os.path.basename(os.path.dirname(p))\n",
    "    )\n",
    "    adv_df = pd.concat([adv_df, r], axis=1)\n",
    "    \n",
    "adv_df = ((adv_df.T.loc[order]) * 100).round(2)\n",
    "\n",
    "adv_df.columns = ['Adv Acc(%)','Adv Acc(%) DWT']"
   ]
  },
  {
   "cell_type": "markdown",
   "metadata": {},
   "source": [
    "## Successed Images"
   ]
  },
  {
   "cell_type": "code",
   "execution_count": 55,
   "metadata": {},
   "outputs": [],
   "source": [
    "succ_list = glob(f'./results/{dataname}/saved_adv_samples/{modelname}/*/successed_images.pkl')"
   ]
  },
  {
   "cell_type": "code",
   "execution_count": 56,
   "metadata": {},
   "outputs": [],
   "source": [
    "for p in succ_list:\n",
    "    with open(p,'rb') as f:\n",
    "        nb_imgs = pickle.load(f)['clean'].shape[0]\n",
    "        adv_method = os.path.basename(os.path.dirname(p))\n",
    "        adv_df.loc[adv_method,'# Success Images'] = nb_imgs\n",
    "\n",
    "adv_df['# Success Images'] = adv_df['# Success Images'].astype(int)"
   ]
  },
  {
   "cell_type": "code",
   "execution_count": 57,
   "metadata": {},
   "outputs": [
    {
     "name": "stdout",
     "output_type": "stream",
     "text": [
      "|            |   Adv Acc(%) |   Adv Acc(%) DWT |   # Success Images |\n",
      "|:-----------|-------------:|-----------------:|-------------------:|\n",
      "| DeepFool   |         4.28 |            78.8  |              23173 |\n",
      "| BIM        |         2.42 |            31.17 |              23615 |\n",
      "| CW         |        33.62 |            74.71 |              15495 |\n",
      "| Low_CW     |        76.69 |            93.47 |               4394 |\n",
      "| FAB        |         1.24 |            93.41 |              23938 |\n",
      "| FGSM       |        40.35 |            55.49 |              13760 |\n",
      "| PGD        |         2.74 |            33.89 |              23566 |\n",
      "| Low_PGD1   |        81.72 |            92.56 |               3142 |\n",
      "| Low_PGD2   |        49.66 |            83.99 |              11355 |\n",
      "| AutoAttack |         0.43 |            38.36 |              24129 |\n",
      "| Square     |         4.81 |            81.37 |              23008 |\n"
     ]
    }
   ],
   "source": [
    "print(adv_df.to_markdown())"
   ]
  },
  {
   "cell_type": "markdown",
   "metadata": {},
   "source": [
    "# Detection"
   ]
  },
  {
   "cell_type": "markdown",
   "metadata": {},
   "source": [
    "## Known Attack"
   ]
  },
  {
   "cell_type": "code",
   "execution_count": 58,
   "metadata": {},
   "outputs": [],
   "source": [
    "del_keys = ['TNR','AUIN','AUOUT']\n",
    "\n",
    "known_results = glob(f'./results/{dataname}/known_attack_results/{modelname}/*/result.json')\n",
    "known_df = pd.DataFrame()\n",
    "\n",
    "for p in known_results:\n",
    "    r = json.load(open(p,'r'))['test']\n",
    "\n",
    "    for k in del_keys:\n",
    "        del r[k]\n",
    "\n",
    "    r = pd.Series(\n",
    "        r,\n",
    "        name = os.path.basename(os.path.dirname(p))\n",
    "    )\n",
    "    \n",
    "    known_df = pd.concat([known_df, r], axis=1)\n",
    "\n",
    "known_df = ((known_df.T.loc[order]) * 100).round(2)\n",
    "\n",
    "known_df.columns = ['AUROC(%)','Detection Acc(%)']"
   ]
  },
  {
   "cell_type": "markdown",
   "metadata": {},
   "source": [
    "## Train and Test images"
   ]
  },
  {
   "cell_type": "code",
   "execution_count": 59,
   "metadata": {},
   "outputs": [],
   "source": [
    "train_det = glob(f'./results/{dataname}/known_attack_results/{modelname}/*/train.pt')\n",
    "dev_det = glob(f'./results/{dataname}/known_attack_results/{modelname}/*/dev.pt')\n",
    "test_det = glob(f'./results/{dataname}/known_attack_results/{modelname}/*/test.pt')"
   ]
  },
  {
   "cell_type": "code",
   "execution_count": 60,
   "metadata": {},
   "outputs": [],
   "source": [
    "for train_p, dev_p, test_p in zip(train_det, dev_det, test_det):\n",
    "    nb_train = torch.load(train_p)['logits'].size(0)\n",
    "    nb_dev = torch.load(dev_p)['logits'].size(0)    \n",
    "    nb_test = torch.load(test_p)['logits'].size(0)\n",
    "    \n",
    "    adv_method = os.path.basename(os.path.dirname(train_p))\n",
    "    \n",
    "    known_df.loc[adv_method, '#(train, dev, test)'] = f\"({nb_train}, {nb_dev}, {nb_test})\""
   ]
  },
  {
   "cell_type": "code",
   "execution_count": 61,
   "metadata": {
    "scrolled": true
   },
   "outputs": [
    {
     "name": "stdout",
     "output_type": "stream",
     "text": [
      "|            |   AUROC(%) |   Detection Acc(%) | #(train, dev, test)   |\n",
      "|:-----------|-----------:|-------------------:|:----------------------|\n",
      "| DeepFool   |      94.33 |              88.66 | (16354, 2725, 8180)   |\n",
      "| BIM        |      99.57 |              97.43 | (23573, 3927, 11790)  |\n",
      "| CW         |      90.29 |              84.11 | (11686, 1947, 5845)   |\n",
      "| Low_CW     |      87.5  |              83.36 | (3035, 504, 1523)     |\n",
      "| FAB        |      96.35 |              91.42 | (15002, 2499, 7504)   |\n",
      "| FGSM       |      89.32 |              82.5  | (12162, 2026, 6084)   |\n",
      "| PGD        |      99.49 |              97.21 | (23148, 3857, 11576)  |\n",
      "| Low_PGD1   |      81.22 |              76.09 | (2268, 377, 1136)     |\n",
      "| Low_PGD2   |      89.78 |              82.66 | (8342, 1389, 4174)    |\n",
      "| AutoAttack |      99.54 |              97.3  | (22959, 3825, 11482)  |\n",
      "| Square     |      98.23 |              95.14 | (15704, 2616, 7855)   |\n"
     ]
    }
   ],
   "source": [
    "print(known_df.to_markdown())"
   ]
  },
  {
   "cell_type": "markdown",
   "metadata": {},
   "source": [
    "## Transfer Attack"
   ]
  },
  {
   "cell_type": "code",
   "execution_count": 62,
   "metadata": {},
   "outputs": [
    {
     "name": "stdout",
     "output_type": "stream",
     "text": [
      "|            |   DeepFool |   BIM |    CW |   Low_CW |   FAB |   FGSM |   PGD |   Low_PGD1 |   Low_PGD2 |   AutoAttack |   Square |\n",
      "|:-----------|-----------:|------:|------:|---------:|------:|-------:|------:|-----------:|-----------:|-------------:|---------:|\n",
      "| DeepFool   |      94.33 | 53.61 | 93.78 |    89.5  | 91.69 |  91.08 | 55.08 |      86.06 |      77.35 |        52.81 |    92.63 |\n",
      "| BIM        |      34.16 | 99.57 | 46.25 |    23.13 | 24.32 |  55.06 | 99.63 |      55.35 |      94.76 |        99.56 |    15.03 |\n",
      "| CW         |      88.69 | 58.87 | 90.29 |    86.35 | 86.55 |  88.29 | 61.13 |      84.75 |      79.73 |        59.11 |    86.49 |\n",
      "| Low_CW     |      87.76 | 54.83 | 87.18 |    87.5  | 87.62 |  80.5  | 57.36 |      87.41 |      80    |        57.78 |    89.15 |\n",
      "| FAB        |      96.59 | 56.24 | 95.28 |    93.84 | 96.35 |  92.54 | 58.97 |      88.04 |      78.36 |        56.18 |    97.06 |\n",
      "| FGSM       |      85.22 | 60.89 | 87.28 |    81.43 | 83.11 |  89.32 | 62.84 |      78.65 |      74.61 |        59.8  |    83.29 |\n",
      "| PGD        |      35.69 | 99.55 | 48.53 |    24.24 | 25.97 |  55.67 | 99.49 |      55.93 |      94.37 |        99.4  |    16.04 |\n",
      "| Low_PGD1   |      79.42 | 66.12 | 81.67 |    80.15 | 76.53 |  75.8  | 64.34 |      81.22 |      81.41 |        68.53 |    75.92 |\n",
      "| Low_PGD2   |      73.31 | 84.54 | 80.64 |    70.08 | 68.54 |  76.95 | 84.6  |      81.43 |      89.78 |        84.51 |    64.15 |\n",
      "| AutoAttack |      38.17 | 99.61 | 50.6  |    23.6  | 26.74 |  57.42 | 99.55 |      55.86 |      94.62 |        99.54 |    16.53 |\n",
      "| Square     |      97.49 | 56.05 | 96.95 |    96.46 | 96.03 |  94.34 | 59.29 |      93.28 |      83.35 |        57.63 |    98.23 |\n"
     ]
    }
   ],
   "source": [
    "transfer_df = pd.read_csv(f'./results/{dataname}/transfer_attack_results/{modelname}/transfer_results.csv',index_col=0)\n",
    "print(transfer_df.loc[order, order].to_markdown())"
   ]
  },
  {
   "cell_type": "code",
   "execution_count": null,
   "metadata": {},
   "outputs": [],
   "source": []
  }
 ],
 "metadata": {
  "kernelspec": {
   "display_name": "Python 3",
   "language": "python",
   "name": "python3"
  },
  "language_info": {
   "codemirror_mode": {
    "name": "ipython",
    "version": 3
   },
   "file_extension": ".py",
   "mimetype": "text/x-python",
   "name": "python",
   "nbconvert_exporter": "python",
   "pygments_lexer": "ipython3",
   "version": "3.6.10"
  }
 },
 "nbformat": 4,
 "nbformat_minor": 4
}
