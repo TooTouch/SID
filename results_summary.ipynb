{
 "cells": [
  {
   "cell_type": "code",
   "execution_count": 1,
   "metadata": {},
   "outputs": [],
   "source": [
    "from glob import glob\n",
    "\n",
    "import os\n",
    "import pandas as pd\n",
    "import numpy as np\n",
    "import json\n",
    "from pathlib import Path\n",
    "import torch\n",
    "import pickle"
   ]
  },
  {
   "cell_type": "code",
   "execution_count": 2,
   "metadata": {},
   "outputs": [],
   "source": [
    "order = [\n",
    "    \"DeepFool\", \"BIM\", \"CW\", \"Low_CW\", \n",
    "    \"FAB\", \"FGSM\", \"PGD\", \"Low_PGD1\", \"Low_PGD2\", \n",
    "    \"AutoAttack\", \"Square\"\n",
    "]"
   ]
  },
  {
   "cell_type": "code",
   "execution_count": 43,
   "metadata": {},
   "outputs": [],
   "source": [
    "dataname = 'SVHN'\n",
    "modelname = 'vgg19'"
   ]
  },
  {
   "cell_type": "markdown",
   "metadata": {},
   "source": [
    "# Adversarial Attack"
   ]
  },
  {
   "cell_type": "code",
   "execution_count": 44,
   "metadata": {},
   "outputs": [],
   "source": [
    "del_keys = ['clean acc','noise acc','clean dwt acc']\n",
    "\n",
    "attack_results = glob(f'./results/{dataname}/saved_adv_samples/{modelname}/*/results.json')\n",
    "adv_df = pd.DataFrame()\n",
    "\n",
    "for p in attack_results:\n",
    "    r = json.load(open(p,'r'))\n",
    "    \n",
    "    for k in del_keys:\n",
    "        del r[k]\n",
    "    \n",
    "    r = pd.Series(\n",
    "        r,\n",
    "        name = os.path.basename(os.path.dirname(p))\n",
    "    )\n",
    "    adv_df = pd.concat([adv_df, r], axis=1)\n",
    "    \n",
    "adv_df = ((adv_df.T.loc[order]) * 100).round(2)\n",
    "\n",
    "adv_df.columns = ['Adv Acc(%)','Adv Acc(%) DWT']"
   ]
  },
  {
   "cell_type": "markdown",
   "metadata": {},
   "source": [
    "## Successed Images"
   ]
  },
  {
   "cell_type": "code",
   "execution_count": 45,
   "metadata": {},
   "outputs": [],
   "source": [
    "succ_list = glob(f'./results/{dataname}/saved_adv_samples/{modelname}/*/successed_images.pkl')"
   ]
  },
  {
   "cell_type": "code",
   "execution_count": 46,
   "metadata": {},
   "outputs": [],
   "source": [
    "for p in succ_list:\n",
    "    with open(p,'rb') as f:\n",
    "        nb_imgs = pickle.load(f)['clean'].shape[0]\n",
    "        adv_method = os.path.basename(os.path.dirname(p))\n",
    "        adv_df.loc[adv_method,'# Success Images'] = nb_imgs\n",
    "\n",
    "adv_df['# Success Images'] = adv_df['# Success Images'].astype(int)"
   ]
  },
  {
   "cell_type": "code",
   "execution_count": 47,
   "metadata": {},
   "outputs": [
    {
     "name": "stdout",
     "output_type": "stream",
     "text": [
      "|            |   Adv Acc(%) |   Adv Acc(%) DWT |   # Success Images |\n",
      "|:-----------|-------------:|-----------------:|-------------------:|\n",
      "| DeepFool   |         1.4  |            54.58 |              23937 |\n",
      "| BIM        |         1.05 |            29.9  |              24015 |\n",
      "| CW         |        15.68 |            69.78 |              20208 |\n",
      "| Low_CW     |        74.88 |            92.11 |               4829 |\n",
      "| FAB        |         0.74 |            90.69 |              24116 |\n",
      "| FGSM       |        20.19 |            44.18 |              19039 |\n",
      "| PGD        |         1.26 |            31.61 |              23982 |\n",
      "| Low_PGD1   |        81.78 |            91.85 |               3085 |\n",
      "| Low_PGD2   |        52.86 |            83.1  |              10551 |\n",
      "| AutoAttack |         0.44 |            34.92 |              24170 |\n",
      "| Square     |         2.98 |            82.6  |              23531 |\n"
     ]
    }
   ],
   "source": [
    "print(adv_df.to_markdown())"
   ]
  },
  {
   "cell_type": "markdown",
   "metadata": {},
   "source": [
    "# Detection"
   ]
  },
  {
   "cell_type": "markdown",
   "metadata": {},
   "source": [
    "## Known Attack"
   ]
  },
  {
   "cell_type": "code",
   "execution_count": 48,
   "metadata": {},
   "outputs": [],
   "source": [
    "del_keys = ['TNR','AUIN','AUOUT']\n",
    "\n",
    "known_results = glob(f'./results/{dataname}/known_attack_results/{modelname}/*/result.json')\n",
    "known_df = pd.DataFrame()\n",
    "\n",
    "for p in known_results:\n",
    "    r = json.load(open(p,'r'))['test']\n",
    "\n",
    "    for k in del_keys:\n",
    "        del r[k]\n",
    "\n",
    "    r = pd.Series(\n",
    "        r,\n",
    "        name = os.path.basename(os.path.dirname(p))\n",
    "    )\n",
    "    \n",
    "    known_df = pd.concat([known_df, r], axis=1)\n",
    "\n",
    "known_df = ((known_df.T.loc[order]) * 100).round(2)\n",
    "\n",
    "known_df.columns = ['AUROC(%)','Detection Acc(%)']"
   ]
  },
  {
   "cell_type": "markdown",
   "metadata": {},
   "source": [
    "## Train and Test images"
   ]
  },
  {
   "cell_type": "code",
   "execution_count": 49,
   "metadata": {},
   "outputs": [],
   "source": [
    "train_det = glob(f'./results/{dataname}/known_attack_results/{modelname}/*/train.pt')\n",
    "dev_det = glob(f'./results/{dataname}/known_attack_results/{modelname}/*/dev.pt')\n",
    "test_det = glob(f'./results/{dataname}/known_attack_results/{modelname}/*/test.pt')"
   ]
  },
  {
   "cell_type": "code",
   "execution_count": 50,
   "metadata": {},
   "outputs": [],
   "source": [
    "for train_p, dev_p, test_p in zip(train_det, dev_det, test_det):\n",
    "    nb_train = torch.load(train_p)['logits'].size(0)\n",
    "    nb_dev = torch.load(dev_p)['logits'].size(0)    \n",
    "    nb_test = torch.load(test_p)['logits'].size(0)\n",
    "    \n",
    "    adv_method = os.path.basename(os.path.dirname(train_p))\n",
    "    \n",
    "    known_df.loc[adv_method, '#(train, dev, test)'] = f\"({nb_train}, {nb_dev}, {nb_test})\""
   ]
  },
  {
   "cell_type": "code",
   "execution_count": 51,
   "metadata": {
    "scrolled": true
   },
   "outputs": [
    {
     "name": "stdout",
     "output_type": "stream",
     "text": [
      "|            |   AUROC(%) |   Detection Acc(%) | #(train, dev, test)   |\n",
      "|:-----------|-----------:|-------------------:|:----------------------|\n",
      "| DeepFool   |      95.4  |              89.52 | (18605, 3100, 9304)   |\n",
      "| BIM        |      98.96 |              95.2  | (24104, 4017, 12055)  |\n",
      "| CW         |      93.56 |              87.75 | (14674, 2445, 7339)   |\n",
      "| Low_CW     |      90.12 |              84.41 | (3358, 559, 1683)     |\n",
      "| FAB        |      96.75 |              92.39 | (15473, 2578, 7739)   |\n",
      "| FGSM       |      92.78 |              86.19 | (15777, 2628, 7891)   |\n",
      "| PGD        |      98.9  |              94.87 | (23855, 3975, 11931)  |\n",
      "| Low_PGD1   |      78.78 |              72.43 | (2203, 365, 1106)     |\n",
      "| Low_PGD2   |      88.59 |              81.52 | (7886, 1313, 3948)    |\n",
      "| AutoAttack |      98.94 |              94.77 | (23558, 3925, 11782)  |\n",
      "| Square     |      98.3  |              94.83 | (15747, 2624, 7876)   |\n"
     ]
    }
   ],
   "source": [
    "print(known_df.to_markdown())"
   ]
  },
  {
   "cell_type": "markdown",
   "metadata": {},
   "source": [
    "## Transfer Attack"
   ]
  },
  {
   "cell_type": "code",
   "execution_count": 52,
   "metadata": {},
   "outputs": [
    {
     "name": "stdout",
     "output_type": "stream",
     "text": [
      "|            |   DeepFool |   BIM |    CW |   Low_CW |   FAB |   FGSM |   PGD |   Low_PGD1 |   Low_PGD2 |   AutoAttack |   Square |\n",
      "|:-----------|-----------:|------:|------:|---------:|------:|-------:|------:|-----------:|-----------:|-------------:|---------:|\n",
      "| DeepFool   |      95.4  | 35.78 | 95.32 |    94.09 | 94.48 |  95.07 | 33.91 |      90.72 |      82.15 |        39.71 |    93.9  |\n",
      "| BIM        |      32.3  | 98.96 | 31.01 |    22.1  | 34.79 |  31.1  | 99.05 |      55.46 |      91.36 |        99.06 |    16.17 |\n",
      "| CW         |      93.02 | 40.19 | 93.56 |    92.91 | 92.86 |  93.21 | 38.05 |      90.77 |      85.13 |        44.09 |    92.19 |\n",
      "| Low_CW     |      86.67 | 47.91 | 87.49 |    90.12 | 86.96 |  84.54 | 44.6  |      87.35 |      78.68 |        50.73 |    89.86 |\n",
      "| FAB        |      95.67 | 40.36 | 95.64 |    95.64 | 96.75 |  95.33 | 38.83 |      91.82 |      83.18 |        44.95 |    96.3  |\n",
      "| FGSM       |      92.08 | 38.91 | 92.23 |    90.46 | 91.06 |  92.78 | 36.37 |      87.41 |      80.92 |        42.57 |    89.7  |\n",
      "| PGD        |      33.59 | 98.85 | 32.33 |    23.09 | 35.95 |  32.42 | 98.9  |      55.99 |      91.46 |        98.96 |    17.7  |\n",
      "| Low_PGD1   |      72.79 | 63.26 | 74.54 |    76.43 | 70.4  |  69.07 | 59.46 |      78.78 |      77.47 |        64.46 |    71.02 |\n",
      "| Low_PGD2   |      76.74 | 77.22 | 79.7  |    75.42 | 76.82 |  77.04 | 77.11 |      83.25 |      88.59 |        78.72 |    71.01 |\n",
      "| AutoAttack |      38.41 | 98.85 | 37.05 |    25.45 | 40.35 |  37.31 | 98.96 |      58.59 |      91.69 |        98.94 |    19.92 |\n",
      "| Square     |      96.99 | 33.77 | 96.93 |    97.95 | 97.11 |  95.84 | 29.17 |      94.99 |      87.48 |        34.8  |    98.3  |\n"
     ]
    }
   ],
   "source": [
    "transfer_df = pd.read_csv(f'./results/{dataname}/transfer_attack_results/{modelname}/transfer_results.csv',index_col=0)\n",
    "print(transfer_df.loc[order, order].to_markdown())"
   ]
  },
  {
   "cell_type": "code",
   "execution_count": null,
   "metadata": {},
   "outputs": [],
   "source": []
  }
 ],
 "metadata": {
  "kernelspec": {
   "display_name": "Python 3",
   "language": "python",
   "name": "python3"
  },
  "language_info": {
   "codemirror_mode": {
    "name": "ipython",
    "version": 3
   },
   "file_extension": ".py",
   "mimetype": "text/x-python",
   "name": "python",
   "nbconvert_exporter": "python",
   "pygments_lexer": "ipython3",
   "version": "3.6.10"
  }
 },
 "nbformat": 4,
 "nbformat_minor": 4
}
