{
 "cells": [
  {
   "cell_type": "code",
   "execution_count": 1,
   "metadata": {},
   "outputs": [],
   "source": [
    "from glob import glob\n",
    "\n",
    "import os\n",
    "import pandas as pd\n",
    "import numpy as np\n",
    "import json\n",
    "from pathlib import Path\n",
    "import torch\n",
    "import pickle"
   ]
  },
  {
   "cell_type": "code",
   "execution_count": 2,
   "metadata": {},
   "outputs": [],
   "source": [
    "order = [\"DeepFool\", \"BIM\", \"CW\", \"Low_CW\", \"FAB\", \"FGSM\", \"PGD\", \"Low_PGD1\", \"Low_PGD2\"]"
   ]
  },
  {
   "cell_type": "code",
   "execution_count": 15,
   "metadata": {},
   "outputs": [],
   "source": [
    "dataname = 'CIFAR100'\n",
    "modelname = 'vgg19'"
   ]
  },
  {
   "cell_type": "markdown",
   "metadata": {},
   "source": [
    "# Adversarial Attack"
   ]
  },
  {
   "cell_type": "code",
   "execution_count": 16,
   "metadata": {},
   "outputs": [],
   "source": [
    "del_keys = ['clean acc','noise acc','clean dwt acc']\n",
    "\n",
    "attack_results = glob(f'./results/{dataname}/saved_adv_samples/{modelname}/*/results.json')\n",
    "adv_df = pd.DataFrame()\n",
    "\n",
    "for p in attack_results:\n",
    "    r = json.load(open(p,'r'))\n",
    "    \n",
    "    for k in del_keys:\n",
    "        del r[k]\n",
    "    \n",
    "    r = pd.Series(\n",
    "        r,\n",
    "        name = os.path.basename(os.path.dirname(p))\n",
    "    )\n",
    "    adv_df = pd.concat([adv_df, r], axis=1)\n",
    "    \n",
    "adv_df = ((adv_df.T.loc[order]) * 100).round(2)\n",
    "\n",
    "adv_df.columns = ['Adv Acc(%)','Adv Acc(%) DWT']"
   ]
  },
  {
   "cell_type": "markdown",
   "metadata": {},
   "source": [
    "## Successed Images"
   ]
  },
  {
   "cell_type": "code",
   "execution_count": 17,
   "metadata": {},
   "outputs": [],
   "source": [
    "succ_list = glob(f'./results/{dataname}/saved_adv_samples/{modelname}/*/successed_images.pkl')"
   ]
  },
  {
   "cell_type": "code",
   "execution_count": 18,
   "metadata": {},
   "outputs": [],
   "source": [
    "for p in succ_list:\n",
    "    with open(p,'rb') as f:\n",
    "        nb_imgs = pickle.load(f)['clean'].shape[0]\n",
    "        adv_method = os.path.basename(os.path.dirname(p))\n",
    "        adv_df.loc[adv_method,'# Success Images'] = nb_imgs\n",
    "\n",
    "adv_df['# Success Images'] = adv_df['# Success Images'].astype(int)"
   ]
  },
  {
   "cell_type": "code",
   "execution_count": 19,
   "metadata": {},
   "outputs": [
    {
     "name": "stdout",
     "output_type": "stream",
     "text": [
      "|          |   Adv Acc(%) |   Adv Acc(%) DWT |   # Success Images |\n",
      "|:---------|-------------:|-----------------:|-------------------:|\n",
      "| DeepFool |         2.9  |            57.6  |               2961 |\n",
      "| BIM      |         1.72 |            44.59 |               2950 |\n",
      "| CW       |         9.35 |            52.97 |               2245 |\n",
      "| Low_CW   |        30.82 |            59.3  |               1187 |\n",
      "| FAB      |         5.31 |            59.14 |               2865 |\n",
      "| FGSM     |        16.79 |            35.4  |               1826 |\n",
      "| PGD      |         1.32 |            45.68 |               2943 |\n",
      "| Low_PGD1 |        29.61 |            58.47 |               1190 |\n",
      "| Low_PGD2 |         9.72 |            56.72 |               2325 |\n"
     ]
    }
   ],
   "source": [
    "print(adv_df.to_markdown())"
   ]
  },
  {
   "cell_type": "markdown",
   "metadata": {},
   "source": [
    "# Detection"
   ]
  },
  {
   "cell_type": "markdown",
   "metadata": {},
   "source": [
    "## Known Attack"
   ]
  },
  {
   "cell_type": "code",
   "execution_count": 20,
   "metadata": {},
   "outputs": [],
   "source": [
    "del_keys = ['TNR','AUIN','AUOUT']\n",
    "\n",
    "known_results = glob(f'./results/{dataname}/known_attack_results/{modelname}/*/result.json')\n",
    "known_df = pd.DataFrame()\n",
    "\n",
    "for p in known_results:\n",
    "    r = json.load(open(p,'r'))['test']\n",
    "\n",
    "    for k in del_keys:\n",
    "        del r[k]\n",
    "\n",
    "    r = pd.Series(\n",
    "        r,\n",
    "        name = os.path.basename(os.path.dirname(p))\n",
    "    )\n",
    "    \n",
    "    known_df = pd.concat([known_df, r], axis=1)\n",
    "\n",
    "known_df = ((known_df.T.loc[order]) * 100).round(2)\n",
    "\n",
    "known_df.columns = ['AUROC(%)','Detection Acc(%)']"
   ]
  },
  {
   "cell_type": "markdown",
   "metadata": {},
   "source": [
    "## Train and Test images"
   ]
  },
  {
   "cell_type": "code",
   "execution_count": 21,
   "metadata": {},
   "outputs": [],
   "source": [
    "train_det = glob(f'./results/{dataname}/known_attack_results/{modelname}/*/train.pt')\n",
    "dev_det = glob(f'./results/{dataname}/known_attack_results/{modelname}/*/dev.pt')\n",
    "test_det = glob(f'./results/{dataname}/known_attack_results/{modelname}/*/test.pt')"
   ]
  },
  {
   "cell_type": "code",
   "execution_count": 22,
   "metadata": {},
   "outputs": [],
   "source": [
    "for train_p, dev_p, test_p in zip(train_det, dev_det, test_det):\n",
    "    nb_train = torch.load(train_p)['logits'].size(0)\n",
    "    nb_dev = torch.load(dev_p)['logits'].size(0)    \n",
    "    nb_test = torch.load(test_p)['logits'].size(0)\n",
    "    \n",
    "    adv_method = os.path.basename(os.path.dirname(train_p))\n",
    "    \n",
    "    known_df.loc[adv_method, '#(train, dev, test)'] = f\"({nb_train}, {nb_dev}, {nb_test})\""
   ]
  },
  {
   "cell_type": "code",
   "execution_count": 23,
   "metadata": {
    "scrolled": true
   },
   "outputs": [
    {
     "name": "stdout",
     "output_type": "stream",
     "text": [
      "|          |   AUROC(%) |   Detection Acc(%) | #(train, dev, test)   |\n",
      "|:---------|-----------:|-------------------:|:----------------------|\n",
      "| DeepFool |      80.4  |              73.61 | (1893, 315, 949)      |\n",
      "| BIM      |      86.14 |              78.24 | (1879, 312, 943)      |\n",
      "| CW       |      72.53 |              68.66 | (1461, 243, 734)      |\n",
      "| Low_CW   |      59.76 |              59.38 | (779, 129, 392)       |\n",
      "| FAB      |      76.26 |              70.87 | (1836, 305, 920)      |\n",
      "| FGSM     |      63.77 |              62.82 | (1247, 206, 627)      |\n",
      "| PGD      |      87.85 |              81.94 | (1872, 310, 940)      |\n",
      "| Low_PGD1 |      55.68 |              58.55 | (782, 129, 395)       |\n",
      "| Low_PGD2 |      66.83 |              67.21 | (1483, 246, 745)      |\n"
     ]
    }
   ],
   "source": [
    "print(known_df.to_markdown())"
   ]
  },
  {
   "cell_type": "markdown",
   "metadata": {},
   "source": [
    "## Transfer Attack"
   ]
  },
  {
   "cell_type": "code",
   "execution_count": 24,
   "metadata": {},
   "outputs": [
    {
     "name": "stdout",
     "output_type": "stream",
     "text": [
      "|          |   DeepFool |   BIM |    CW |   Low_CW |   FAB |   FGSM |   PGD |   Low_PGD1 |   Low_PGD2 |\n",
      "|:---------|-----------:|------:|------:|---------:|------:|-------:|------:|-----------:|-----------:|\n",
      "| DeepFool |      80.4  | 52.95 | 71.77 |    81.31 | 82.27 |  68.61 | 51.34 |      72.65 |      70.04 |\n",
      "| BIM      |      46.63 | 86.14 | 57.88 |    53.55 | 41.39 |  61.81 | 90.2  |      56.72 |      73.45 |\n",
      "| CW       |      75.26 | 72.3  | 72.53 |    69.18 | 72.6  |  67.45 | 65.02 |      66.54 |      71.74 |\n",
      "| Low_CW   |      83.81 | 52.64 | 83.21 |    59.76 | 78.18 |  60.5  | 52.16 |      62.42 |      72.59 |\n",
      "| FAB      |      84.15 | 53.52 | 72.35 |    74.6  | 76.26 |  58.67 | 54.37 |      65.21 |      66.54 |\n",
      "| FGSM     |      72.34 | 61.55 | 71.93 |    67.63 | 71.73 |  63.77 | 62.16 |      63.21 |      64.98 |\n",
      "| PGD      |      44.98 | 89.12 | 51.08 |    45.1  | 40.51 |  56.23 | 87.85 |      52.43 |      66.13 |\n",
      "| Low_PGD1 |      76.1  | 57.68 | 73.99 |    75.12 | 77.17 |  61.2  | 62.45 |      55.68 |      75.67 |\n",
      "| Low_PGD2 |      64.91 | 77.37 | 64.82 |    62.86 | 59.45 |  60.75 | 73.54 |      70.4  |      66.83 |\n"
     ]
    }
   ],
   "source": [
    "transfer_df = pd.read_csv(f'./results/{dataname}/transfer_attack_results/{modelname}/transfer_results.csv',index_col=0)\n",
    "print(transfer_df.loc[order, order].to_markdown())"
   ]
  },
  {
   "cell_type": "code",
   "execution_count": null,
   "metadata": {},
   "outputs": [],
   "source": []
  },
  {
   "cell_type": "code",
   "execution_count": null,
   "metadata": {},
   "outputs": [],
   "source": []
  }
 ],
 "metadata": {
  "kernelspec": {
   "display_name": "Python 3 (ipykernel)",
   "language": "python",
   "name": "python3"
  },
  "language_info": {
   "codemirror_mode": {
    "name": "ipython",
    "version": 3
   },
   "file_extension": ".py",
   "mimetype": "text/x-python",
   "name": "python",
   "nbconvert_exporter": "python",
   "pygments_lexer": "ipython3",
   "version": "3.8.3"
  }
 },
 "nbformat": 4,
 "nbformat_minor": 4
}
